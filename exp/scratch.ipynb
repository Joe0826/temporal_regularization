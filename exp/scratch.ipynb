{
 "cells": [
  {
   "cell_type": "code",
   "execution_count": null,
   "metadata": {
    "collapsed": true
   },
   "outputs": [],
   "source": [
    "from mpl_toolkits.mplot3d import Axes3D\n",
    "import matplotlib.pyplot as plt\n",
    "import pandas as pd\n",
    "import seaborn as sns\n",
    "%matplotlib inline  \n",
    "import numpy as np\n",
    "from discreteMarkovChain import markovChain\n",
    "from matplotlib import cm\n",
    "import matplotlib"
   ]
  },
  {
   "cell_type": "code",
   "execution_count": null,
   "metadata": {
    "collapsed": true
   },
   "outputs": [],
   "source": [
    "def get_pi(P):\n",
    "    mc = markovChain(P)\n",
    "    mc.computePi('linear') #We can also use 'power', 'krylov' or 'eigen'\n",
    "    return mc.pi\n",
    "def get_reversal(P):\n",
    "    pi = get_pi(P)"
   ]
  },
  {
   "cell_type": "code",
   "execution_count": null,
   "metadata": {
    "collapsed": true
   },
   "outputs": [],
   "source": [
    "matplotlib.rcParams.update({'font.size': 20})\n"
   ]
  },
  {
   "cell_type": "code",
   "execution_count": null,
   "metadata": {
    "collapsed": true
   },
   "outputs": [],
   "source": [
    "size = 10\n",
    "T = 5\n",
    "\n",
    "rep_list = np.empty((100,500,3))\n",
    "for rep in range(100):\n",
    "    matrix = np.random.random(size=(size,size)).astype(np.float64)\n",
    "    matrix = matrix/matrix.sum(axis=1)[:,None]\n",
    "    pi = get_pi(matrix)\n",
    "    matrix_s = np.diag(pi**(-1)).dot(matrix.T).dot(np.diag(pi))\n",
    "    result = np.empty((100,500,3))\n",
    "    for n in range(100):\n",
    "        dist = []\n",
    "        for b in range(100):\n",
    "            for i in range(T):\n",
    "                m = (1-b/100)*matrix + (b/100)*matrix_s\n",
    "                dist.append([b/100,i,np.linalg.norm((np.ones(size)/size).dot(np.linalg.matrix_power(m,i+1))-pi)])\n",
    "        dist = np.array(dist)\n",
    "        result[n,:,:] = dist\n",
    "    rep_list[rep,:,:] = result.mean(axis=0)\n",
    "dist= rep_list.mean(axis=0)"
   ]
  },
  {
   "cell_type": "code",
   "execution_count": null,
   "metadata": {
    "collapsed": true
   },
   "outputs": [],
   "source": [
    "fig = plt.figure(figsize=(8, 7))\n",
    "ax = fig.gca(projection='3d')\n",
    "ax.plot_trisurf(dist[:,0],dist[:,1], dist[:,2], linewidth=0.2)\n",
    "ax.view_init(30, 30)\n",
    "ax.set_yticks(np.arange(5))\n",
    "ax.set_xlabel(\"Beta\",labelpad=10)\n",
    "ax.set_ylabel(\"Iteration\",labelpad=10)\n",
    "ax.set_zlabel(\"Error\",labelpad=10)\n",
    "plt.tight_layout()\n",
    "plt.savefig(\"./Image/Markov_mixing.png\")"
   ]
  }
 ],
 "metadata": {
  "kernelspec": {
   "display_name": "Python 3",
   "language": "python",
   "name": "python3"
  },
  "language_info": {
   "codemirror_mode": {
    "name": "ipython",
    "version": 3
   },
   "file_extension": ".py",
   "mimetype": "text/x-python",
   "name": "python",
   "nbconvert_exporter": "python",
   "pygments_lexer": "ipython3",
   "version": "3.6.1"
  },
  "widgets": {
   "state": {},
   "version": "1.0.0"
  }
 },
 "nbformat": 4,
 "nbformat_minor": 2
}
